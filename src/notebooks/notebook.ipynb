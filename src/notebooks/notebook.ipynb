{
  "cells": [
    {
      "cell_type": "markdown",
      "metadata": {
        "id": "view-in-github",
        "colab_type": "text"
      },
      "source": [
        "<a href=\"https://colab.research.google.com/github/Toni2Morales/PrediccionyAnalisisDeVinos/blob/main/src/notebooks/notebook.ipynb\" target=\"_parent\"><img src=\"https://colab.research.google.com/assets/colab-badge.svg\" alt=\"Open In Colab\"/></a>"
      ]
    },
    {
      "cell_type": "markdown",
      "metadata": {
        "id": "f8z0ThzztnKU"
      },
      "source": [
        "# Predicción y análisis de vinos"
      ]
    },
    {
      "cell_type": "markdown",
      "source": [
        "## Clonamos el repositorio"
      ],
      "metadata": {
        "id": "gzPeqFfst7LG"
      }
    },
    {
      "cell_type": "code",
      "source": [
        "!git clone https://github.com/Toni2Morales/PrediccionyAnalisisDeVinos.git"
      ],
      "metadata": {
        "id": "ez6lse5ht-HB",
        "outputId": "dc91defd-9676-4474-ad6d-8de211e2970e",
        "colab": {
          "base_uri": "https://localhost:8080/"
        }
      },
      "execution_count": 1,
      "outputs": [
        {
          "output_type": "stream",
          "name": "stdout",
          "text": [
            "Cloning into 'PrediccionyAnalisisDeVinos'...\n",
            "remote: Enumerating objects: 20, done.\u001b[K\n",
            "remote: Counting objects: 100% (11/11), done.\u001b[K\n",
            "remote: Compressing objects: 100% (7/7), done.\u001b[K\n",
            "remote: Total 20 (delta 0), reused 11 (delta 0), pack-reused 9\u001b[K\n",
            "Unpacking objects: 100% (20/20), 47.14 MiB | 5.92 MiB/s, done.\n"
          ]
        }
      ]
    },
    {
      "cell_type": "markdown",
      "source": [
        "## Importamos las librerías"
      ],
      "metadata": {
        "id": "Qcr4iAFYuIIM"
      }
    },
    {
      "cell_type": "markdown",
      "source": [],
      "metadata": {
        "id": "jUT4_T5ptuhm"
      }
    },
    {
      "cell_type": "code",
      "execution_count": 3,
      "metadata": {
        "id": "kpTClqHOtnKW"
      },
      "outputs": [],
      "source": [
        "import os"
      ]
    },
    {
      "cell_type": "code",
      "source": [
        "os.getcwd()"
      ],
      "metadata": {
        "id": "Tu0ysgU9uNJH",
        "outputId": "a89a0874-2d8d-4cd6-8e9d-d5ab48529f14",
        "colab": {
          "base_uri": "https://localhost:8080/",
          "height": 36
        }
      },
      "execution_count": 4,
      "outputs": [
        {
          "output_type": "execute_result",
          "data": {
            "text/plain": [
              "'/content'"
            ],
            "application/vnd.google.colaboratory.intrinsic+json": {
              "type": "string"
            }
          },
          "metadata": {},
          "execution_count": 4
        }
      ]
    },
    {
      "cell_type": "code",
      "source": [
        "os.chdir(\"PrediccionyAnalisisDeVinos/src/notebooks\")\n",
        "os.getcwd()"
      ],
      "metadata": {
        "id": "KDnwNaCLuP0o",
        "outputId": "5153e46a-6462-4336-898c-655825bee34f",
        "colab": {
          "base_uri": "https://localhost:8080/",
          "height": 36
        }
      },
      "execution_count": 11,
      "outputs": [
        {
          "output_type": "execute_result",
          "data": {
            "text/plain": [
              "'/content/PrediccionyAnalisisDeVinos/src/notebooks'"
            ],
            "application/vnd.google.colaboratory.intrinsic+json": {
              "type": "string"
            }
          },
          "metadata": {},
          "execution_count": 11
        }
      ]
    },
    {
      "cell_type": "code",
      "source": [],
      "metadata": {
        "id": "7o8Sj6ySuz8R"
      },
      "execution_count": null,
      "outputs": []
    }
  ],
  "metadata": {
    "language_info": {
      "name": "python"
    },
    "orig_nbformat": 4,
    "colab": {
      "provenance": [],
      "include_colab_link": true
    },
    "kernelspec": {
      "name": "python3",
      "display_name": "Python 3"
    },
    "gpuClass": "standard"
  },
  "nbformat": 4,
  "nbformat_minor": 0
}