{
  "cells": [
    {
      "cell_type": "markdown",
      "metadata": {
        "id": "view-in-github",
        "colab_type": "text"
      },
      "source": [
        "<a href=\"https://colab.research.google.com/github/Toni2Morales/PrediccionyAnalisisDeVinos/blob/main/src/notebooks/notebook.ipynb\" target=\"_parent\"><img src=\"https://colab.research.google.com/assets/colab-badge.svg\" alt=\"Open In Colab\"/></a>"
      ]
    },
    {
      "cell_type": "markdown",
      "metadata": {
        "id": "f8z0ThzztnKU"
      },
      "source": [
        "# Predicción y análisis de vinos"
      ]
    },
    {
      "cell_type": "markdown",
      "source": [
        "## Clonamos el repositorio"
      ],
      "metadata": {
        "id": "gzPeqFfst7LG"
      }
    },
    {
      "cell_type": "code",
      "source": [
        "!git clone https://github.com/Toni2Morales/PrediccionyAnalisisDeVinos.git"
      ],
      "metadata": {
        "id": "ez6lse5ht-HB",
        "outputId": "b97f6601-5f3d-4d50-e8d4-39d2ace6c00e",
        "colab": {
          "base_uri": "https://localhost:8080/"
        }
      },
      "execution_count": 1,
      "outputs": [
        {
          "output_type": "stream",
          "name": "stdout",
          "text": [
            "Cloning into 'PrediccionyAnalisisDeVinos'...\n",
            "remote: Enumerating objects: 25, done.\u001b[K\n",
            "remote: Counting objects: 100% (16/16), done.\u001b[K\n",
            "remote: Compressing objects: 100% (11/11), done.\u001b[K\n",
            "remote: Total 25 (delta 0), reused 11 (delta 0), pack-reused 9\u001b[K\n",
            "Unpacking objects: 100% (25/25), 47.14 MiB | 6.84 MiB/s, done.\n"
          ]
        }
      ]
    },
    {
      "cell_type": "markdown",
      "source": [
        "## Importamos las librerías"
      ],
      "metadata": {
        "id": "Qcr4iAFYuIIM"
      }
    },
    {
      "cell_type": "markdown",
      "source": [],
      "metadata": {
        "id": "jUT4_T5ptuhm"
      }
    },
    {
      "cell_type": "code",
      "execution_count": 2,
      "metadata": {
        "id": "kpTClqHOtnKW"
      },
      "outputs": [],
      "source": [
        "import os\n",
        "import pandas as pd\n",
        "import matplotlib.pyplot as plt"
      ]
    },
    {
      "cell_type": "code",
      "source": [
        "os.getcwd()"
      ],
      "metadata": {
        "id": "Tu0ysgU9uNJH",
        "outputId": "a30e1d88-705c-4d41-dcfe-6188fa7e96ba",
        "colab": {
          "base_uri": "https://localhost:8080/",
          "height": 35
        }
      },
      "execution_count": 3,
      "outputs": [
        {
          "output_type": "execute_result",
          "data": {
            "text/plain": [
              "'/content'"
            ],
            "application/vnd.google.colaboratory.intrinsic+json": {
              "type": "string"
            }
          },
          "metadata": {},
          "execution_count": 3
        }
      ]
    },
    {
      "cell_type": "code",
      "source": [
        "os.chdir(\"PrediccionyAnalisisDeVinos/src/notebooks\")\n",
        "os.getcwd()"
      ],
      "metadata": {
        "id": "KDnwNaCLuP0o",
        "outputId": "104ebda4-5b31-4a1d-a310-055df07a6b56",
        "colab": {
          "base_uri": "https://localhost:8080/",
          "height": 35
        }
      },
      "execution_count": 4,
      "outputs": [
        {
          "output_type": "execute_result",
          "data": {
            "text/plain": [
              "'/content/PrediccionyAnalisisDeVinos/src/notebooks'"
            ],
            "application/vnd.google.colaboratory.intrinsic+json": {
              "type": "string"
            }
          },
          "metadata": {},
          "execution_count": 4
        }
      ]
    },
    {
      "cell_type": "markdown",
      "source": [
        "## Leemos los datos"
      ],
      "metadata": {
        "id": "4ulec8zjxX-B"
      }
    },
    {
      "cell_type": "code",
      "source": [
        "data1 = pd.read_csv(\"../data/winemag-data-130k-v2.csv\", index_col = 0)\n",
        "data2 = pd.read_csv(\"../data/winemag-data_first150k.csv\", index_col = 0)\n",
        "data3 = pd.read_json(\"../data/winemag-data-130k-v2.json\")"
      ],
      "metadata": {
        "id": "7o8Sj6ySuz8R"
      },
      "execution_count": 17,
      "outputs": []
    },
    {
      "cell_type": "code",
      "source": [
        "data1"
      ],
      "metadata": {
        "id": "xHHE03Y-xxBj",
        "outputId": "4e67bc5b-fe63-4056-c0a5-54a8f3732d9c",
        "colab": {
          "base_uri": "https://localhost:8080/",
          "height": 641
        }
      },
      "execution_count": 18,
      "outputs": [
        {
          "output_type": "execute_result",
          "data": {
            "text/plain": [
              "         country                                        description  \\\n",
              "0          Italy  Aromas include tropical fruit, broom, brimston...   \n",
              "1       Portugal  This is ripe and fruity, a wine that is smooth...   \n",
              "2             US  Tart and snappy, the flavors of lime flesh and...   \n",
              "3             US  Pineapple rind, lemon pith and orange blossom ...   \n",
              "4             US  Much like the regular bottling from 2012, this...   \n",
              "...          ...                                                ...   \n",
              "129966   Germany  Notes of honeysuckle and cantaloupe sweeten th...   \n",
              "129967        US  Citation is given as much as a decade of bottl...   \n",
              "129968    France  Well-drained gravel soil gives this wine its c...   \n",
              "129969    France  A dry style of Pinot Gris, this is crisp with ...   \n",
              "129970    France  Big, rich and off-dry, this is powered by inte...   \n",
              "\n",
              "                                   designation  points  price  \\\n",
              "0                                 Vulkà Bianco      87    NaN   \n",
              "1                                     Avidagos      87   15.0   \n",
              "2                                          NaN      87   14.0   \n",
              "3                         Reserve Late Harvest      87   13.0   \n",
              "4           Vintner's Reserve Wild Child Block      87   65.0   \n",
              "...                                        ...     ...    ...   \n",
              "129966  Brauneberger Juffer-Sonnenuhr Spätlese      90   28.0   \n",
              "129967                                     NaN      90   75.0   \n",
              "129968                                   Kritt      90   30.0   \n",
              "129969                                     NaN      90   32.0   \n",
              "129970           Lieu-dit Harth Cuvée Caroline      90   21.0   \n",
              "\n",
              "                 province             region_1           region_2  \\\n",
              "0       Sicily & Sardinia                 Etna                NaN   \n",
              "1                   Douro                  NaN                NaN   \n",
              "2                  Oregon    Willamette Valley  Willamette Valley   \n",
              "3                Michigan  Lake Michigan Shore                NaN   \n",
              "4                  Oregon    Willamette Valley  Willamette Valley   \n",
              "...                   ...                  ...                ...   \n",
              "129966              Mosel                  NaN                NaN   \n",
              "129967             Oregon               Oregon       Oregon Other   \n",
              "129968             Alsace               Alsace                NaN   \n",
              "129969             Alsace               Alsace                NaN   \n",
              "129970             Alsace               Alsace                NaN   \n",
              "\n",
              "               taster_name taster_twitter_handle  \\\n",
              "0            Kerin O’Keefe          @kerinokeefe   \n",
              "1               Roger Voss            @vossroger   \n",
              "2             Paul Gregutt           @paulgwine    \n",
              "3       Alexander Peartree                   NaN   \n",
              "4             Paul Gregutt           @paulgwine    \n",
              "...                    ...                   ...   \n",
              "129966  Anna Lee C. Iijima                   NaN   \n",
              "129967        Paul Gregutt           @paulgwine    \n",
              "129968          Roger Voss            @vossroger   \n",
              "129969          Roger Voss            @vossroger   \n",
              "129970          Roger Voss            @vossroger   \n",
              "\n",
              "                                                    title         variety  \\\n",
              "0                       Nicosia 2013 Vulkà Bianco  (Etna)     White Blend   \n",
              "1           Quinta dos Avidagos 2011 Avidagos Red (Douro)  Portuguese Red   \n",
              "2           Rainstorm 2013 Pinot Gris (Willamette Valley)      Pinot Gris   \n",
              "3       St. Julian 2013 Reserve Late Harvest Riesling ...        Riesling   \n",
              "4       Sweet Cheeks 2012 Vintner's Reserve Wild Child...      Pinot Noir   \n",
              "...                                                   ...             ...   \n",
              "129966  Dr. H. Thanisch (Erben Müller-Burggraef) 2013 ...        Riesling   \n",
              "129967                  Citation 2004 Pinot Noir (Oregon)      Pinot Noir   \n",
              "129968  Domaine Gresser 2013 Kritt Gewurztraminer (Als...  Gewürztraminer   \n",
              "129969      Domaine Marcel Deiss 2012 Pinot Gris (Alsace)      Pinot Gris   \n",
              "129970  Domaine Schoffit 2012 Lieu-dit Harth Cuvée Car...  Gewürztraminer   \n",
              "\n",
              "                                          winery  \n",
              "0                                        Nicosia  \n",
              "1                            Quinta dos Avidagos  \n",
              "2                                      Rainstorm  \n",
              "3                                     St. Julian  \n",
              "4                                   Sweet Cheeks  \n",
              "...                                          ...  \n",
              "129966  Dr. H. Thanisch (Erben Müller-Burggraef)  \n",
              "129967                                  Citation  \n",
              "129968                           Domaine Gresser  \n",
              "129969                      Domaine Marcel Deiss  \n",
              "129970                          Domaine Schoffit  \n",
              "\n",
              "[129971 rows x 13 columns]"
            ],
            "text/html": [
              "\n",
              "  <div id=\"df-62b4e631-a164-4119-82a3-1e38938a419a\">\n",
              "    <div class=\"colab-df-container\">\n",
              "      <div>\n",
              "<style scoped>\n",
              "    .dataframe tbody tr th:only-of-type {\n",
              "        vertical-align: middle;\n",
              "    }\n",
              "\n",
              "    .dataframe tbody tr th {\n",
              "        vertical-align: top;\n",
              "    }\n",
              "\n",
              "    .dataframe thead th {\n",
              "        text-align: right;\n",
              "    }\n",
              "</style>\n",
              "<table border=\"1\" class=\"dataframe\">\n",
              "  <thead>\n",
              "    <tr style=\"text-align: right;\">\n",
              "      <th></th>\n",
              "      <th>country</th>\n",
              "      <th>description</th>\n",
              "      <th>designation</th>\n",
              "      <th>points</th>\n",
              "      <th>price</th>\n",
              "      <th>province</th>\n",
              "      <th>region_1</th>\n",
              "      <th>region_2</th>\n",
              "      <th>taster_name</th>\n",
              "      <th>taster_twitter_handle</th>\n",
              "      <th>title</th>\n",
              "      <th>variety</th>\n",
              "      <th>winery</th>\n",
              "    </tr>\n",
              "  </thead>\n",
              "  <tbody>\n",
              "    <tr>\n",
              "      <th>0</th>\n",
              "      <td>Italy</td>\n",
              "      <td>Aromas include tropical fruit, broom, brimston...</td>\n",
              "      <td>Vulkà Bianco</td>\n",
              "      <td>87</td>\n",
              "      <td>NaN</td>\n",
              "      <td>Sicily &amp; Sardinia</td>\n",
              "      <td>Etna</td>\n",
              "      <td>NaN</td>\n",
              "      <td>Kerin O’Keefe</td>\n",
              "      <td>@kerinokeefe</td>\n",
              "      <td>Nicosia 2013 Vulkà Bianco  (Etna)</td>\n",
              "      <td>White Blend</td>\n",
              "      <td>Nicosia</td>\n",
              "    </tr>\n",
              "    <tr>\n",
              "      <th>1</th>\n",
              "      <td>Portugal</td>\n",
              "      <td>This is ripe and fruity, a wine that is smooth...</td>\n",
              "      <td>Avidagos</td>\n",
              "      <td>87</td>\n",
              "      <td>15.0</td>\n",
              "      <td>Douro</td>\n",
              "      <td>NaN</td>\n",
              "      <td>NaN</td>\n",
              "      <td>Roger Voss</td>\n",
              "      <td>@vossroger</td>\n",
              "      <td>Quinta dos Avidagos 2011 Avidagos Red (Douro)</td>\n",
              "      <td>Portuguese Red</td>\n",
              "      <td>Quinta dos Avidagos</td>\n",
              "    </tr>\n",
              "    <tr>\n",
              "      <th>2</th>\n",
              "      <td>US</td>\n",
              "      <td>Tart and snappy, the flavors of lime flesh and...</td>\n",
              "      <td>NaN</td>\n",
              "      <td>87</td>\n",
              "      <td>14.0</td>\n",
              "      <td>Oregon</td>\n",
              "      <td>Willamette Valley</td>\n",
              "      <td>Willamette Valley</td>\n",
              "      <td>Paul Gregutt</td>\n",
              "      <td>@paulgwine</td>\n",
              "      <td>Rainstorm 2013 Pinot Gris (Willamette Valley)</td>\n",
              "      <td>Pinot Gris</td>\n",
              "      <td>Rainstorm</td>\n",
              "    </tr>\n",
              "    <tr>\n",
              "      <th>3</th>\n",
              "      <td>US</td>\n",
              "      <td>Pineapple rind, lemon pith and orange blossom ...</td>\n",
              "      <td>Reserve Late Harvest</td>\n",
              "      <td>87</td>\n",
              "      <td>13.0</td>\n",
              "      <td>Michigan</td>\n",
              "      <td>Lake Michigan Shore</td>\n",
              "      <td>NaN</td>\n",
              "      <td>Alexander Peartree</td>\n",
              "      <td>NaN</td>\n",
              "      <td>St. Julian 2013 Reserve Late Harvest Riesling ...</td>\n",
              "      <td>Riesling</td>\n",
              "      <td>St. Julian</td>\n",
              "    </tr>\n",
              "    <tr>\n",
              "      <th>4</th>\n",
              "      <td>US</td>\n",
              "      <td>Much like the regular bottling from 2012, this...</td>\n",
              "      <td>Vintner's Reserve Wild Child Block</td>\n",
              "      <td>87</td>\n",
              "      <td>65.0</td>\n",
              "      <td>Oregon</td>\n",
              "      <td>Willamette Valley</td>\n",
              "      <td>Willamette Valley</td>\n",
              "      <td>Paul Gregutt</td>\n",
              "      <td>@paulgwine</td>\n",
              "      <td>Sweet Cheeks 2012 Vintner's Reserve Wild Child...</td>\n",
              "      <td>Pinot Noir</td>\n",
              "      <td>Sweet Cheeks</td>\n",
              "    </tr>\n",
              "    <tr>\n",
              "      <th>...</th>\n",
              "      <td>...</td>\n",
              "      <td>...</td>\n",
              "      <td>...</td>\n",
              "      <td>...</td>\n",
              "      <td>...</td>\n",
              "      <td>...</td>\n",
              "      <td>...</td>\n",
              "      <td>...</td>\n",
              "      <td>...</td>\n",
              "      <td>...</td>\n",
              "      <td>...</td>\n",
              "      <td>...</td>\n",
              "      <td>...</td>\n",
              "    </tr>\n",
              "    <tr>\n",
              "      <th>129966</th>\n",
              "      <td>Germany</td>\n",
              "      <td>Notes of honeysuckle and cantaloupe sweeten th...</td>\n",
              "      <td>Brauneberger Juffer-Sonnenuhr Spätlese</td>\n",
              "      <td>90</td>\n",
              "      <td>28.0</td>\n",
              "      <td>Mosel</td>\n",
              "      <td>NaN</td>\n",
              "      <td>NaN</td>\n",
              "      <td>Anna Lee C. Iijima</td>\n",
              "      <td>NaN</td>\n",
              "      <td>Dr. H. Thanisch (Erben Müller-Burggraef) 2013 ...</td>\n",
              "      <td>Riesling</td>\n",
              "      <td>Dr. H. Thanisch (Erben Müller-Burggraef)</td>\n",
              "    </tr>\n",
              "    <tr>\n",
              "      <th>129967</th>\n",
              "      <td>US</td>\n",
              "      <td>Citation is given as much as a decade of bottl...</td>\n",
              "      <td>NaN</td>\n",
              "      <td>90</td>\n",
              "      <td>75.0</td>\n",
              "      <td>Oregon</td>\n",
              "      <td>Oregon</td>\n",
              "      <td>Oregon Other</td>\n",
              "      <td>Paul Gregutt</td>\n",
              "      <td>@paulgwine</td>\n",
              "      <td>Citation 2004 Pinot Noir (Oregon)</td>\n",
              "      <td>Pinot Noir</td>\n",
              "      <td>Citation</td>\n",
              "    </tr>\n",
              "    <tr>\n",
              "      <th>129968</th>\n",
              "      <td>France</td>\n",
              "      <td>Well-drained gravel soil gives this wine its c...</td>\n",
              "      <td>Kritt</td>\n",
              "      <td>90</td>\n",
              "      <td>30.0</td>\n",
              "      <td>Alsace</td>\n",
              "      <td>Alsace</td>\n",
              "      <td>NaN</td>\n",
              "      <td>Roger Voss</td>\n",
              "      <td>@vossroger</td>\n",
              "      <td>Domaine Gresser 2013 Kritt Gewurztraminer (Als...</td>\n",
              "      <td>Gewürztraminer</td>\n",
              "      <td>Domaine Gresser</td>\n",
              "    </tr>\n",
              "    <tr>\n",
              "      <th>129969</th>\n",
              "      <td>France</td>\n",
              "      <td>A dry style of Pinot Gris, this is crisp with ...</td>\n",
              "      <td>NaN</td>\n",
              "      <td>90</td>\n",
              "      <td>32.0</td>\n",
              "      <td>Alsace</td>\n",
              "      <td>Alsace</td>\n",
              "      <td>NaN</td>\n",
              "      <td>Roger Voss</td>\n",
              "      <td>@vossroger</td>\n",
              "      <td>Domaine Marcel Deiss 2012 Pinot Gris (Alsace)</td>\n",
              "      <td>Pinot Gris</td>\n",
              "      <td>Domaine Marcel Deiss</td>\n",
              "    </tr>\n",
              "    <tr>\n",
              "      <th>129970</th>\n",
              "      <td>France</td>\n",
              "      <td>Big, rich and off-dry, this is powered by inte...</td>\n",
              "      <td>Lieu-dit Harth Cuvée Caroline</td>\n",
              "      <td>90</td>\n",
              "      <td>21.0</td>\n",
              "      <td>Alsace</td>\n",
              "      <td>Alsace</td>\n",
              "      <td>NaN</td>\n",
              "      <td>Roger Voss</td>\n",
              "      <td>@vossroger</td>\n",
              "      <td>Domaine Schoffit 2012 Lieu-dit Harth Cuvée Car...</td>\n",
              "      <td>Gewürztraminer</td>\n",
              "      <td>Domaine Schoffit</td>\n",
              "    </tr>\n",
              "  </tbody>\n",
              "</table>\n",
              "<p>129971 rows × 13 columns</p>\n",
              "</div>\n",
              "      <button class=\"colab-df-convert\" onclick=\"convertToInteractive('df-62b4e631-a164-4119-82a3-1e38938a419a')\"\n",
              "              title=\"Convert this dataframe to an interactive table.\"\n",
              "              style=\"display:none;\">\n",
              "        \n",
              "  <svg xmlns=\"http://www.w3.org/2000/svg\" height=\"24px\"viewBox=\"0 0 24 24\"\n",
              "       width=\"24px\">\n",
              "    <path d=\"M0 0h24v24H0V0z\" fill=\"none\"/>\n",
              "    <path d=\"M18.56 5.44l.94 2.06.94-2.06 2.06-.94-2.06-.94-.94-2.06-.94 2.06-2.06.94zm-11 1L8.5 8.5l.94-2.06 2.06-.94-2.06-.94L8.5 2.5l-.94 2.06-2.06.94zm10 10l.94 2.06.94-2.06 2.06-.94-2.06-.94-.94-2.06-.94 2.06-2.06.94z\"/><path d=\"M17.41 7.96l-1.37-1.37c-.4-.4-.92-.59-1.43-.59-.52 0-1.04.2-1.43.59L10.3 9.45l-7.72 7.72c-.78.78-.78 2.05 0 2.83L4 21.41c.39.39.9.59 1.41.59.51 0 1.02-.2 1.41-.59l7.78-7.78 2.81-2.81c.8-.78.8-2.07 0-2.86zM5.41 20L4 18.59l7.72-7.72 1.47 1.35L5.41 20z\"/>\n",
              "  </svg>\n",
              "      </button>\n",
              "      \n",
              "  <style>\n",
              "    .colab-df-container {\n",
              "      display:flex;\n",
              "      flex-wrap:wrap;\n",
              "      gap: 12px;\n",
              "    }\n",
              "\n",
              "    .colab-df-convert {\n",
              "      background-color: #E8F0FE;\n",
              "      border: none;\n",
              "      border-radius: 50%;\n",
              "      cursor: pointer;\n",
              "      display: none;\n",
              "      fill: #1967D2;\n",
              "      height: 32px;\n",
              "      padding: 0 0 0 0;\n",
              "      width: 32px;\n",
              "    }\n",
              "\n",
              "    .colab-df-convert:hover {\n",
              "      background-color: #E2EBFA;\n",
              "      box-shadow: 0px 1px 2px rgba(60, 64, 67, 0.3), 0px 1px 3px 1px rgba(60, 64, 67, 0.15);\n",
              "      fill: #174EA6;\n",
              "    }\n",
              "\n",
              "    [theme=dark] .colab-df-convert {\n",
              "      background-color: #3B4455;\n",
              "      fill: #D2E3FC;\n",
              "    }\n",
              "\n",
              "    [theme=dark] .colab-df-convert:hover {\n",
              "      background-color: #434B5C;\n",
              "      box-shadow: 0px 1px 3px 1px rgba(0, 0, 0, 0.15);\n",
              "      filter: drop-shadow(0px 1px 2px rgba(0, 0, 0, 0.3));\n",
              "      fill: #FFFFFF;\n",
              "    }\n",
              "  </style>\n",
              "\n",
              "      <script>\n",
              "        const buttonEl =\n",
              "          document.querySelector('#df-62b4e631-a164-4119-82a3-1e38938a419a button.colab-df-convert');\n",
              "        buttonEl.style.display =\n",
              "          google.colab.kernel.accessAllowed ? 'block' : 'none';\n",
              "\n",
              "        async function convertToInteractive(key) {\n",
              "          const element = document.querySelector('#df-62b4e631-a164-4119-82a3-1e38938a419a');\n",
              "          const dataTable =\n",
              "            await google.colab.kernel.invokeFunction('convertToInteractive',\n",
              "                                                     [key], {});\n",
              "          if (!dataTable) return;\n",
              "\n",
              "          const docLinkHtml = 'Like what you see? Visit the ' +\n",
              "            '<a target=\"_blank\" href=https://colab.research.google.com/notebooks/data_table.ipynb>data table notebook</a>'\n",
              "            + ' to learn more about interactive tables.';\n",
              "          element.innerHTML = '';\n",
              "          dataTable['output_type'] = 'display_data';\n",
              "          await google.colab.output.renderOutput(dataTable, element);\n",
              "          const docLink = document.createElement('div');\n",
              "          docLink.innerHTML = docLinkHtml;\n",
              "          element.appendChild(docLink);\n",
              "        }\n",
              "      </script>\n",
              "    </div>\n",
              "  </div>\n",
              "  "
            ]
          },
          "metadata": {},
          "execution_count": 18
        }
      ]
    },
    {
      "cell_type": "code",
      "source": [
        "data2"
      ],
      "metadata": {
        "id": "8BK6bFeQxy1d",
        "outputId": "7840f078-177a-453f-a1da-0fcb1f90b66e",
        "colab": {
          "base_uri": "https://localhost:8080/",
          "height": 424
        }
      },
      "execution_count": 19,
      "outputs": [
        {
          "output_type": "execute_result",
          "data": {
            "text/plain": [
              "       country                                        description  \\\n",
              "0           US  This tremendous 100% varietal wine hails from ...   \n",
              "1        Spain  Ripe aromas of fig, blackberry and cassis are ...   \n",
              "2           US  Mac Watson honors the memory of a wine once ma...   \n",
              "3           US  This spent 20 months in 30% new French oak, an...   \n",
              "4       France  This is the top wine from La Bégude, named aft...   \n",
              "...        ...                                                ...   \n",
              "150925   Italy  Many people feel Fiano represents southern Ita...   \n",
              "150926  France  Offers an intriguing nose with ginger, lime an...   \n",
              "150927   Italy  This classic example comes from a cru vineyard...   \n",
              "150928  France  A perfect salmon shade, with scents of peaches...   \n",
              "150929   Italy  More Pinot Grigios should taste like this. A r...   \n",
              "\n",
              "                                 designation  points  price  \\\n",
              "0                          Martha's Vineyard      96  235.0   \n",
              "1       Carodorum Selección Especial Reserva      96  110.0   \n",
              "2              Special Selected Late Harvest      96   90.0   \n",
              "3                                    Reserve      96   65.0   \n",
              "4                                 La Brûlade      95   66.0   \n",
              "...                                      ...     ...    ...   \n",
              "150925                                   NaN      91   20.0   \n",
              "150926                        Cuvée Prestige      91   27.0   \n",
              "150927                         Terre di Dora      91   20.0   \n",
              "150928                       Grand Brut Rosé      90   52.0   \n",
              "150929                                   NaN      90   15.0   \n",
              "\n",
              "                  province           region_1           region_2  \\\n",
              "0               California        Napa Valley               Napa   \n",
              "1           Northern Spain               Toro                NaN   \n",
              "2               California     Knights Valley             Sonoma   \n",
              "3                   Oregon  Willamette Valley  Willamette Valley   \n",
              "4                 Provence             Bandol                NaN   \n",
              "...                    ...                ...                ...   \n",
              "150925      Southern Italy  Fiano di Avellino                NaN   \n",
              "150926           Champagne          Champagne                NaN   \n",
              "150927      Southern Italy  Fiano di Avellino                NaN   \n",
              "150928           Champagne          Champagne                NaN   \n",
              "150929  Northeastern Italy         Alto Adige                NaN   \n",
              "\n",
              "                   variety                   winery  \n",
              "0       Cabernet Sauvignon                    Heitz  \n",
              "1            Tinta de Toro  Bodega Carmen Rodríguez  \n",
              "2          Sauvignon Blanc                 Macauley  \n",
              "3               Pinot Noir                    Ponzi  \n",
              "4       Provence red blend     Domaine de la Bégude  \n",
              "...                    ...                      ...  \n",
              "150925         White Blend    Feudi di San Gregorio  \n",
              "150926     Champagne Blend                H.Germain  \n",
              "150927         White Blend                Terredora  \n",
              "150928     Champagne Blend                   Gosset  \n",
              "150929        Pinot Grigio            Alois Lageder  \n",
              "\n",
              "[150930 rows x 10 columns]"
            ],
            "text/html": [
              "\n",
              "  <div id=\"df-36f2140f-295d-4777-834f-cd309756a647\">\n",
              "    <div class=\"colab-df-container\">\n",
              "      <div>\n",
              "<style scoped>\n",
              "    .dataframe tbody tr th:only-of-type {\n",
              "        vertical-align: middle;\n",
              "    }\n",
              "\n",
              "    .dataframe tbody tr th {\n",
              "        vertical-align: top;\n",
              "    }\n",
              "\n",
              "    .dataframe thead th {\n",
              "        text-align: right;\n",
              "    }\n",
              "</style>\n",
              "<table border=\"1\" class=\"dataframe\">\n",
              "  <thead>\n",
              "    <tr style=\"text-align: right;\">\n",
              "      <th></th>\n",
              "      <th>country</th>\n",
              "      <th>description</th>\n",
              "      <th>designation</th>\n",
              "      <th>points</th>\n",
              "      <th>price</th>\n",
              "      <th>province</th>\n",
              "      <th>region_1</th>\n",
              "      <th>region_2</th>\n",
              "      <th>variety</th>\n",
              "      <th>winery</th>\n",
              "    </tr>\n",
              "  </thead>\n",
              "  <tbody>\n",
              "    <tr>\n",
              "      <th>0</th>\n",
              "      <td>US</td>\n",
              "      <td>This tremendous 100% varietal wine hails from ...</td>\n",
              "      <td>Martha's Vineyard</td>\n",
              "      <td>96</td>\n",
              "      <td>235.0</td>\n",
              "      <td>California</td>\n",
              "      <td>Napa Valley</td>\n",
              "      <td>Napa</td>\n",
              "      <td>Cabernet Sauvignon</td>\n",
              "      <td>Heitz</td>\n",
              "    </tr>\n",
              "    <tr>\n",
              "      <th>1</th>\n",
              "      <td>Spain</td>\n",
              "      <td>Ripe aromas of fig, blackberry and cassis are ...</td>\n",
              "      <td>Carodorum Selección Especial Reserva</td>\n",
              "      <td>96</td>\n",
              "      <td>110.0</td>\n",
              "      <td>Northern Spain</td>\n",
              "      <td>Toro</td>\n",
              "      <td>NaN</td>\n",
              "      <td>Tinta de Toro</td>\n",
              "      <td>Bodega Carmen Rodríguez</td>\n",
              "    </tr>\n",
              "    <tr>\n",
              "      <th>2</th>\n",
              "      <td>US</td>\n",
              "      <td>Mac Watson honors the memory of a wine once ma...</td>\n",
              "      <td>Special Selected Late Harvest</td>\n",
              "      <td>96</td>\n",
              "      <td>90.0</td>\n",
              "      <td>California</td>\n",
              "      <td>Knights Valley</td>\n",
              "      <td>Sonoma</td>\n",
              "      <td>Sauvignon Blanc</td>\n",
              "      <td>Macauley</td>\n",
              "    </tr>\n",
              "    <tr>\n",
              "      <th>3</th>\n",
              "      <td>US</td>\n",
              "      <td>This spent 20 months in 30% new French oak, an...</td>\n",
              "      <td>Reserve</td>\n",
              "      <td>96</td>\n",
              "      <td>65.0</td>\n",
              "      <td>Oregon</td>\n",
              "      <td>Willamette Valley</td>\n",
              "      <td>Willamette Valley</td>\n",
              "      <td>Pinot Noir</td>\n",
              "      <td>Ponzi</td>\n",
              "    </tr>\n",
              "    <tr>\n",
              "      <th>4</th>\n",
              "      <td>France</td>\n",
              "      <td>This is the top wine from La Bégude, named aft...</td>\n",
              "      <td>La Brûlade</td>\n",
              "      <td>95</td>\n",
              "      <td>66.0</td>\n",
              "      <td>Provence</td>\n",
              "      <td>Bandol</td>\n",
              "      <td>NaN</td>\n",
              "      <td>Provence red blend</td>\n",
              "      <td>Domaine de la Bégude</td>\n",
              "    </tr>\n",
              "    <tr>\n",
              "      <th>...</th>\n",
              "      <td>...</td>\n",
              "      <td>...</td>\n",
              "      <td>...</td>\n",
              "      <td>...</td>\n",
              "      <td>...</td>\n",
              "      <td>...</td>\n",
              "      <td>...</td>\n",
              "      <td>...</td>\n",
              "      <td>...</td>\n",
              "      <td>...</td>\n",
              "    </tr>\n",
              "    <tr>\n",
              "      <th>150925</th>\n",
              "      <td>Italy</td>\n",
              "      <td>Many people feel Fiano represents southern Ita...</td>\n",
              "      <td>NaN</td>\n",
              "      <td>91</td>\n",
              "      <td>20.0</td>\n",
              "      <td>Southern Italy</td>\n",
              "      <td>Fiano di Avellino</td>\n",
              "      <td>NaN</td>\n",
              "      <td>White Blend</td>\n",
              "      <td>Feudi di San Gregorio</td>\n",
              "    </tr>\n",
              "    <tr>\n",
              "      <th>150926</th>\n",
              "      <td>France</td>\n",
              "      <td>Offers an intriguing nose with ginger, lime an...</td>\n",
              "      <td>Cuvée Prestige</td>\n",
              "      <td>91</td>\n",
              "      <td>27.0</td>\n",
              "      <td>Champagne</td>\n",
              "      <td>Champagne</td>\n",
              "      <td>NaN</td>\n",
              "      <td>Champagne Blend</td>\n",
              "      <td>H.Germain</td>\n",
              "    </tr>\n",
              "    <tr>\n",
              "      <th>150927</th>\n",
              "      <td>Italy</td>\n",
              "      <td>This classic example comes from a cru vineyard...</td>\n",
              "      <td>Terre di Dora</td>\n",
              "      <td>91</td>\n",
              "      <td>20.0</td>\n",
              "      <td>Southern Italy</td>\n",
              "      <td>Fiano di Avellino</td>\n",
              "      <td>NaN</td>\n",
              "      <td>White Blend</td>\n",
              "      <td>Terredora</td>\n",
              "    </tr>\n",
              "    <tr>\n",
              "      <th>150928</th>\n",
              "      <td>France</td>\n",
              "      <td>A perfect salmon shade, with scents of peaches...</td>\n",
              "      <td>Grand Brut Rosé</td>\n",
              "      <td>90</td>\n",
              "      <td>52.0</td>\n",
              "      <td>Champagne</td>\n",
              "      <td>Champagne</td>\n",
              "      <td>NaN</td>\n",
              "      <td>Champagne Blend</td>\n",
              "      <td>Gosset</td>\n",
              "    </tr>\n",
              "    <tr>\n",
              "      <th>150929</th>\n",
              "      <td>Italy</td>\n",
              "      <td>More Pinot Grigios should taste like this. A r...</td>\n",
              "      <td>NaN</td>\n",
              "      <td>90</td>\n",
              "      <td>15.0</td>\n",
              "      <td>Northeastern Italy</td>\n",
              "      <td>Alto Adige</td>\n",
              "      <td>NaN</td>\n",
              "      <td>Pinot Grigio</td>\n",
              "      <td>Alois Lageder</td>\n",
              "    </tr>\n",
              "  </tbody>\n",
              "</table>\n",
              "<p>150930 rows × 10 columns</p>\n",
              "</div>\n",
              "      <button class=\"colab-df-convert\" onclick=\"convertToInteractive('df-36f2140f-295d-4777-834f-cd309756a647')\"\n",
              "              title=\"Convert this dataframe to an interactive table.\"\n",
              "              style=\"display:none;\">\n",
              "        \n",
              "  <svg xmlns=\"http://www.w3.org/2000/svg\" height=\"24px\"viewBox=\"0 0 24 24\"\n",
              "       width=\"24px\">\n",
              "    <path d=\"M0 0h24v24H0V0z\" fill=\"none\"/>\n",
              "    <path d=\"M18.56 5.44l.94 2.06.94-2.06 2.06-.94-2.06-.94-.94-2.06-.94 2.06-2.06.94zm-11 1L8.5 8.5l.94-2.06 2.06-.94-2.06-.94L8.5 2.5l-.94 2.06-2.06.94zm10 10l.94 2.06.94-2.06 2.06-.94-2.06-.94-.94-2.06-.94 2.06-2.06.94z\"/><path d=\"M17.41 7.96l-1.37-1.37c-.4-.4-.92-.59-1.43-.59-.52 0-1.04.2-1.43.59L10.3 9.45l-7.72 7.72c-.78.78-.78 2.05 0 2.83L4 21.41c.39.39.9.59 1.41.59.51 0 1.02-.2 1.41-.59l7.78-7.78 2.81-2.81c.8-.78.8-2.07 0-2.86zM5.41 20L4 18.59l7.72-7.72 1.47 1.35L5.41 20z\"/>\n",
              "  </svg>\n",
              "      </button>\n",
              "      \n",
              "  <style>\n",
              "    .colab-df-container {\n",
              "      display:flex;\n",
              "      flex-wrap:wrap;\n",
              "      gap: 12px;\n",
              "    }\n",
              "\n",
              "    .colab-df-convert {\n",
              "      background-color: #E8F0FE;\n",
              "      border: none;\n",
              "      border-radius: 50%;\n",
              "      cursor: pointer;\n",
              "      display: none;\n",
              "      fill: #1967D2;\n",
              "      height: 32px;\n",
              "      padding: 0 0 0 0;\n",
              "      width: 32px;\n",
              "    }\n",
              "\n",
              "    .colab-df-convert:hover {\n",
              "      background-color: #E2EBFA;\n",
              "      box-shadow: 0px 1px 2px rgba(60, 64, 67, 0.3), 0px 1px 3px 1px rgba(60, 64, 67, 0.15);\n",
              "      fill: #174EA6;\n",
              "    }\n",
              "\n",
              "    [theme=dark] .colab-df-convert {\n",
              "      background-color: #3B4455;\n",
              "      fill: #D2E3FC;\n",
              "    }\n",
              "\n",
              "    [theme=dark] .colab-df-convert:hover {\n",
              "      background-color: #434B5C;\n",
              "      box-shadow: 0px 1px 3px 1px rgba(0, 0, 0, 0.15);\n",
              "      filter: drop-shadow(0px 1px 2px rgba(0, 0, 0, 0.3));\n",
              "      fill: #FFFFFF;\n",
              "    }\n",
              "  </style>\n",
              "\n",
              "      <script>\n",
              "        const buttonEl =\n",
              "          document.querySelector('#df-36f2140f-295d-4777-834f-cd309756a647 button.colab-df-convert');\n",
              "        buttonEl.style.display =\n",
              "          google.colab.kernel.accessAllowed ? 'block' : 'none';\n",
              "\n",
              "        async function convertToInteractive(key) {\n",
              "          const element = document.querySelector('#df-36f2140f-295d-4777-834f-cd309756a647');\n",
              "          const dataTable =\n",
              "            await google.colab.kernel.invokeFunction('convertToInteractive',\n",
              "                                                     [key], {});\n",
              "          if (!dataTable) return;\n",
              "\n",
              "          const docLinkHtml = 'Like what you see? Visit the ' +\n",
              "            '<a target=\"_blank\" href=https://colab.research.google.com/notebooks/data_table.ipynb>data table notebook</a>'\n",
              "            + ' to learn more about interactive tables.';\n",
              "          element.innerHTML = '';\n",
              "          dataTable['output_type'] = 'display_data';\n",
              "          await google.colab.output.renderOutput(dataTable, element);\n",
              "          const docLink = document.createElement('div');\n",
              "          docLink.innerHTML = docLinkHtml;\n",
              "          element.appendChild(docLink);\n",
              "        }\n",
              "      </script>\n",
              "    </div>\n",
              "  </div>\n",
              "  "
            ]
          },
          "metadata": {},
          "execution_count": 19
        }
      ]
    },
    {
      "cell_type": "code",
      "source": [
        "data3"
      ],
      "metadata": {
        "id": "nRnWTyy7zbUv",
        "outputId": "c2ec4a31-e57e-4bbd-c5c9-2deacb25dec9",
        "colab": {
          "base_uri": "https://localhost:8080/",
          "height": 641
        }
      },
      "execution_count": 20,
      "outputs": [
        {
          "output_type": "execute_result",
          "data": {
            "text/plain": [
              "        points                                              title  \\\n",
              "0           87                  Nicosia 2013 Vulkà Bianco  (Etna)   \n",
              "1           87      Quinta dos Avidagos 2011 Avidagos Red (Douro)   \n",
              "2           87      Rainstorm 2013 Pinot Gris (Willamette Valley)   \n",
              "3           87  St. Julian 2013 Reserve Late Harvest Riesling ...   \n",
              "4           87  Sweet Cheeks 2012 Vintner's Reserve Wild Child...   \n",
              "...        ...                                                ...   \n",
              "129966      90  Dr. H. Thanisch (Erben Müller-Burggraef) 2013 ...   \n",
              "129967      90                  Citation 2004 Pinot Noir (Oregon)   \n",
              "129968      90  Domaine Gresser 2013 Kritt Gewurztraminer (Als...   \n",
              "129969      90      Domaine Marcel Deiss 2012 Pinot Gris (Alsace)   \n",
              "129970      90  Domaine Schoffit 2012 Lieu-dit Harth Cuvée Car...   \n",
              "\n",
              "                                              description         taster_name  \\\n",
              "0       Aromas include tropical fruit, broom, brimston...       Kerin O’Keefe   \n",
              "1       This is ripe and fruity, a wine that is smooth...          Roger Voss   \n",
              "2       Tart and snappy, the flavors of lime flesh and...        Paul Gregutt   \n",
              "3       Pineapple rind, lemon pith and orange blossom ...  Alexander Peartree   \n",
              "4       Much like the regular bottling from 2012, this...        Paul Gregutt   \n",
              "...                                                   ...                 ...   \n",
              "129966  Notes of honeysuckle and cantaloupe sweeten th...  Anna Lee C. Iijima   \n",
              "129967  Citation is given as much as a decade of bottl...        Paul Gregutt   \n",
              "129968  Well-drained gravel soil gives this wine its c...          Roger Voss   \n",
              "129969  A dry style of Pinot Gris, this is crisp with ...          Roger Voss   \n",
              "129970  Big, rich and off-dry, this is powered by inte...          Roger Voss   \n",
              "\n",
              "       taster_twitter_handle  price                             designation  \\\n",
              "0               @kerinokeefe    NaN                            Vulkà Bianco   \n",
              "1                 @vossroger   15.0                                Avidagos   \n",
              "2                @paulgwine    14.0                                    None   \n",
              "3                       None   13.0                    Reserve Late Harvest   \n",
              "4                @paulgwine    65.0      Vintner's Reserve Wild Child Block   \n",
              "...                      ...    ...                                     ...   \n",
              "129966                  None   28.0  Brauneberger Juffer-Sonnenuhr Spätlese   \n",
              "129967           @paulgwine    75.0                                    None   \n",
              "129968            @vossroger   30.0                                   Kritt   \n",
              "129969            @vossroger   32.0                                    None   \n",
              "129970            @vossroger   21.0           Lieu-dit Harth Cuvée Caroline   \n",
              "\n",
              "               variety             region_1           region_2  \\\n",
              "0          White Blend                 Etna               None   \n",
              "1       Portuguese Red                 None               None   \n",
              "2           Pinot Gris    Willamette Valley  Willamette Valley   \n",
              "3             Riesling  Lake Michigan Shore               None   \n",
              "4           Pinot Noir    Willamette Valley  Willamette Valley   \n",
              "...                ...                  ...                ...   \n",
              "129966        Riesling                 None               None   \n",
              "129967      Pinot Noir               Oregon       Oregon Other   \n",
              "129968  Gewürztraminer               Alsace               None   \n",
              "129969      Pinot Gris               Alsace               None   \n",
              "129970  Gewürztraminer               Alsace               None   \n",
              "\n",
              "                 province   country                                    winery  \n",
              "0       Sicily & Sardinia     Italy                                   Nicosia  \n",
              "1                   Douro  Portugal                       Quinta dos Avidagos  \n",
              "2                  Oregon        US                                 Rainstorm  \n",
              "3                Michigan        US                                St. Julian  \n",
              "4                  Oregon        US                              Sweet Cheeks  \n",
              "...                   ...       ...                                       ...  \n",
              "129966              Mosel   Germany  Dr. H. Thanisch (Erben Müller-Burggraef)  \n",
              "129967             Oregon        US                                  Citation  \n",
              "129968             Alsace    France                           Domaine Gresser  \n",
              "129969             Alsace    France                      Domaine Marcel Deiss  \n",
              "129970             Alsace    France                          Domaine Schoffit  \n",
              "\n",
              "[129971 rows x 13 columns]"
            ],
            "text/html": [
              "\n",
              "  <div id=\"df-2b580069-72b1-4e7a-9cd9-ea3ba29c9a1b\">\n",
              "    <div class=\"colab-df-container\">\n",
              "      <div>\n",
              "<style scoped>\n",
              "    .dataframe tbody tr th:only-of-type {\n",
              "        vertical-align: middle;\n",
              "    }\n",
              "\n",
              "    .dataframe tbody tr th {\n",
              "        vertical-align: top;\n",
              "    }\n",
              "\n",
              "    .dataframe thead th {\n",
              "        text-align: right;\n",
              "    }\n",
              "</style>\n",
              "<table border=\"1\" class=\"dataframe\">\n",
              "  <thead>\n",
              "    <tr style=\"text-align: right;\">\n",
              "      <th></th>\n",
              "      <th>points</th>\n",
              "      <th>title</th>\n",
              "      <th>description</th>\n",
              "      <th>taster_name</th>\n",
              "      <th>taster_twitter_handle</th>\n",
              "      <th>price</th>\n",
              "      <th>designation</th>\n",
              "      <th>variety</th>\n",
              "      <th>region_1</th>\n",
              "      <th>region_2</th>\n",
              "      <th>province</th>\n",
              "      <th>country</th>\n",
              "      <th>winery</th>\n",
              "    </tr>\n",
              "  </thead>\n",
              "  <tbody>\n",
              "    <tr>\n",
              "      <th>0</th>\n",
              "      <td>87</td>\n",
              "      <td>Nicosia 2013 Vulkà Bianco  (Etna)</td>\n",
              "      <td>Aromas include tropical fruit, broom, brimston...</td>\n",
              "      <td>Kerin O’Keefe</td>\n",
              "      <td>@kerinokeefe</td>\n",
              "      <td>NaN</td>\n",
              "      <td>Vulkà Bianco</td>\n",
              "      <td>White Blend</td>\n",
              "      <td>Etna</td>\n",
              "      <td>None</td>\n",
              "      <td>Sicily &amp; Sardinia</td>\n",
              "      <td>Italy</td>\n",
              "      <td>Nicosia</td>\n",
              "    </tr>\n",
              "    <tr>\n",
              "      <th>1</th>\n",
              "      <td>87</td>\n",
              "      <td>Quinta dos Avidagos 2011 Avidagos Red (Douro)</td>\n",
              "      <td>This is ripe and fruity, a wine that is smooth...</td>\n",
              "      <td>Roger Voss</td>\n",
              "      <td>@vossroger</td>\n",
              "      <td>15.0</td>\n",
              "      <td>Avidagos</td>\n",
              "      <td>Portuguese Red</td>\n",
              "      <td>None</td>\n",
              "      <td>None</td>\n",
              "      <td>Douro</td>\n",
              "      <td>Portugal</td>\n",
              "      <td>Quinta dos Avidagos</td>\n",
              "    </tr>\n",
              "    <tr>\n",
              "      <th>2</th>\n",
              "      <td>87</td>\n",
              "      <td>Rainstorm 2013 Pinot Gris (Willamette Valley)</td>\n",
              "      <td>Tart and snappy, the flavors of lime flesh and...</td>\n",
              "      <td>Paul Gregutt</td>\n",
              "      <td>@paulgwine</td>\n",
              "      <td>14.0</td>\n",
              "      <td>None</td>\n",
              "      <td>Pinot Gris</td>\n",
              "      <td>Willamette Valley</td>\n",
              "      <td>Willamette Valley</td>\n",
              "      <td>Oregon</td>\n",
              "      <td>US</td>\n",
              "      <td>Rainstorm</td>\n",
              "    </tr>\n",
              "    <tr>\n",
              "      <th>3</th>\n",
              "      <td>87</td>\n",
              "      <td>St. Julian 2013 Reserve Late Harvest Riesling ...</td>\n",
              "      <td>Pineapple rind, lemon pith and orange blossom ...</td>\n",
              "      <td>Alexander Peartree</td>\n",
              "      <td>None</td>\n",
              "      <td>13.0</td>\n",
              "      <td>Reserve Late Harvest</td>\n",
              "      <td>Riesling</td>\n",
              "      <td>Lake Michigan Shore</td>\n",
              "      <td>None</td>\n",
              "      <td>Michigan</td>\n",
              "      <td>US</td>\n",
              "      <td>St. Julian</td>\n",
              "    </tr>\n",
              "    <tr>\n",
              "      <th>4</th>\n",
              "      <td>87</td>\n",
              "      <td>Sweet Cheeks 2012 Vintner's Reserve Wild Child...</td>\n",
              "      <td>Much like the regular bottling from 2012, this...</td>\n",
              "      <td>Paul Gregutt</td>\n",
              "      <td>@paulgwine</td>\n",
              "      <td>65.0</td>\n",
              "      <td>Vintner's Reserve Wild Child Block</td>\n",
              "      <td>Pinot Noir</td>\n",
              "      <td>Willamette Valley</td>\n",
              "      <td>Willamette Valley</td>\n",
              "      <td>Oregon</td>\n",
              "      <td>US</td>\n",
              "      <td>Sweet Cheeks</td>\n",
              "    </tr>\n",
              "    <tr>\n",
              "      <th>...</th>\n",
              "      <td>...</td>\n",
              "      <td>...</td>\n",
              "      <td>...</td>\n",
              "      <td>...</td>\n",
              "      <td>...</td>\n",
              "      <td>...</td>\n",
              "      <td>...</td>\n",
              "      <td>...</td>\n",
              "      <td>...</td>\n",
              "      <td>...</td>\n",
              "      <td>...</td>\n",
              "      <td>...</td>\n",
              "      <td>...</td>\n",
              "    </tr>\n",
              "    <tr>\n",
              "      <th>129966</th>\n",
              "      <td>90</td>\n",
              "      <td>Dr. H. Thanisch (Erben Müller-Burggraef) 2013 ...</td>\n",
              "      <td>Notes of honeysuckle and cantaloupe sweeten th...</td>\n",
              "      <td>Anna Lee C. Iijima</td>\n",
              "      <td>None</td>\n",
              "      <td>28.0</td>\n",
              "      <td>Brauneberger Juffer-Sonnenuhr Spätlese</td>\n",
              "      <td>Riesling</td>\n",
              "      <td>None</td>\n",
              "      <td>None</td>\n",
              "      <td>Mosel</td>\n",
              "      <td>Germany</td>\n",
              "      <td>Dr. H. Thanisch (Erben Müller-Burggraef)</td>\n",
              "    </tr>\n",
              "    <tr>\n",
              "      <th>129967</th>\n",
              "      <td>90</td>\n",
              "      <td>Citation 2004 Pinot Noir (Oregon)</td>\n",
              "      <td>Citation is given as much as a decade of bottl...</td>\n",
              "      <td>Paul Gregutt</td>\n",
              "      <td>@paulgwine</td>\n",
              "      <td>75.0</td>\n",
              "      <td>None</td>\n",
              "      <td>Pinot Noir</td>\n",
              "      <td>Oregon</td>\n",
              "      <td>Oregon Other</td>\n",
              "      <td>Oregon</td>\n",
              "      <td>US</td>\n",
              "      <td>Citation</td>\n",
              "    </tr>\n",
              "    <tr>\n",
              "      <th>129968</th>\n",
              "      <td>90</td>\n",
              "      <td>Domaine Gresser 2013 Kritt Gewurztraminer (Als...</td>\n",
              "      <td>Well-drained gravel soil gives this wine its c...</td>\n",
              "      <td>Roger Voss</td>\n",
              "      <td>@vossroger</td>\n",
              "      <td>30.0</td>\n",
              "      <td>Kritt</td>\n",
              "      <td>Gewürztraminer</td>\n",
              "      <td>Alsace</td>\n",
              "      <td>None</td>\n",
              "      <td>Alsace</td>\n",
              "      <td>France</td>\n",
              "      <td>Domaine Gresser</td>\n",
              "    </tr>\n",
              "    <tr>\n",
              "      <th>129969</th>\n",
              "      <td>90</td>\n",
              "      <td>Domaine Marcel Deiss 2012 Pinot Gris (Alsace)</td>\n",
              "      <td>A dry style of Pinot Gris, this is crisp with ...</td>\n",
              "      <td>Roger Voss</td>\n",
              "      <td>@vossroger</td>\n",
              "      <td>32.0</td>\n",
              "      <td>None</td>\n",
              "      <td>Pinot Gris</td>\n",
              "      <td>Alsace</td>\n",
              "      <td>None</td>\n",
              "      <td>Alsace</td>\n",
              "      <td>France</td>\n",
              "      <td>Domaine Marcel Deiss</td>\n",
              "    </tr>\n",
              "    <tr>\n",
              "      <th>129970</th>\n",
              "      <td>90</td>\n",
              "      <td>Domaine Schoffit 2012 Lieu-dit Harth Cuvée Car...</td>\n",
              "      <td>Big, rich and off-dry, this is powered by inte...</td>\n",
              "      <td>Roger Voss</td>\n",
              "      <td>@vossroger</td>\n",
              "      <td>21.0</td>\n",
              "      <td>Lieu-dit Harth Cuvée Caroline</td>\n",
              "      <td>Gewürztraminer</td>\n",
              "      <td>Alsace</td>\n",
              "      <td>None</td>\n",
              "      <td>Alsace</td>\n",
              "      <td>France</td>\n",
              "      <td>Domaine Schoffit</td>\n",
              "    </tr>\n",
              "  </tbody>\n",
              "</table>\n",
              "<p>129971 rows × 13 columns</p>\n",
              "</div>\n",
              "      <button class=\"colab-df-convert\" onclick=\"convertToInteractive('df-2b580069-72b1-4e7a-9cd9-ea3ba29c9a1b')\"\n",
              "              title=\"Convert this dataframe to an interactive table.\"\n",
              "              style=\"display:none;\">\n",
              "        \n",
              "  <svg xmlns=\"http://www.w3.org/2000/svg\" height=\"24px\"viewBox=\"0 0 24 24\"\n",
              "       width=\"24px\">\n",
              "    <path d=\"M0 0h24v24H0V0z\" fill=\"none\"/>\n",
              "    <path d=\"M18.56 5.44l.94 2.06.94-2.06 2.06-.94-2.06-.94-.94-2.06-.94 2.06-2.06.94zm-11 1L8.5 8.5l.94-2.06 2.06-.94-2.06-.94L8.5 2.5l-.94 2.06-2.06.94zm10 10l.94 2.06.94-2.06 2.06-.94-2.06-.94-.94-2.06-.94 2.06-2.06.94z\"/><path d=\"M17.41 7.96l-1.37-1.37c-.4-.4-.92-.59-1.43-.59-.52 0-1.04.2-1.43.59L10.3 9.45l-7.72 7.72c-.78.78-.78 2.05 0 2.83L4 21.41c.39.39.9.59 1.41.59.51 0 1.02-.2 1.41-.59l7.78-7.78 2.81-2.81c.8-.78.8-2.07 0-2.86zM5.41 20L4 18.59l7.72-7.72 1.47 1.35L5.41 20z\"/>\n",
              "  </svg>\n",
              "      </button>\n",
              "      \n",
              "  <style>\n",
              "    .colab-df-container {\n",
              "      display:flex;\n",
              "      flex-wrap:wrap;\n",
              "      gap: 12px;\n",
              "    }\n",
              "\n",
              "    .colab-df-convert {\n",
              "      background-color: #E8F0FE;\n",
              "      border: none;\n",
              "      border-radius: 50%;\n",
              "      cursor: pointer;\n",
              "      display: none;\n",
              "      fill: #1967D2;\n",
              "      height: 32px;\n",
              "      padding: 0 0 0 0;\n",
              "      width: 32px;\n",
              "    }\n",
              "\n",
              "    .colab-df-convert:hover {\n",
              "      background-color: #E2EBFA;\n",
              "      box-shadow: 0px 1px 2px rgba(60, 64, 67, 0.3), 0px 1px 3px 1px rgba(60, 64, 67, 0.15);\n",
              "      fill: #174EA6;\n",
              "    }\n",
              "\n",
              "    [theme=dark] .colab-df-convert {\n",
              "      background-color: #3B4455;\n",
              "      fill: #D2E3FC;\n",
              "    }\n",
              "\n",
              "    [theme=dark] .colab-df-convert:hover {\n",
              "      background-color: #434B5C;\n",
              "      box-shadow: 0px 1px 3px 1px rgba(0, 0, 0, 0.15);\n",
              "      filter: drop-shadow(0px 1px 2px rgba(0, 0, 0, 0.3));\n",
              "      fill: #FFFFFF;\n",
              "    }\n",
              "  </style>\n",
              "\n",
              "      <script>\n",
              "        const buttonEl =\n",
              "          document.querySelector('#df-2b580069-72b1-4e7a-9cd9-ea3ba29c9a1b button.colab-df-convert');\n",
              "        buttonEl.style.display =\n",
              "          google.colab.kernel.accessAllowed ? 'block' : 'none';\n",
              "\n",
              "        async function convertToInteractive(key) {\n",
              "          const element = document.querySelector('#df-2b580069-72b1-4e7a-9cd9-ea3ba29c9a1b');\n",
              "          const dataTable =\n",
              "            await google.colab.kernel.invokeFunction('convertToInteractive',\n",
              "                                                     [key], {});\n",
              "          if (!dataTable) return;\n",
              "\n",
              "          const docLinkHtml = 'Like what you see? Visit the ' +\n",
              "            '<a target=\"_blank\" href=https://colab.research.google.com/notebooks/data_table.ipynb>data table notebook</a>'\n",
              "            + ' to learn more about interactive tables.';\n",
              "          element.innerHTML = '';\n",
              "          dataTable['output_type'] = 'display_data';\n",
              "          await google.colab.output.renderOutput(dataTable, element);\n",
              "          const docLink = document.createElement('div');\n",
              "          docLink.innerHTML = docLinkHtml;\n",
              "          element.appendChild(docLink);\n",
              "        }\n",
              "      </script>\n",
              "    </div>\n",
              "  </div>\n",
              "  "
            ]
          },
          "metadata": {},
          "execution_count": 20
        }
      ]
    },
    {
      "cell_type": "markdown",
      "source": [
        "## Limpieza de datos"
      ],
      "metadata": {
        "id": "lX4uuWfX2TqN"
      }
    },
    {
      "cell_type": "code",
      "source": [
        "data = pd.concat([data1, data2, data3], ignore_index = True)"
      ],
      "metadata": {
        "id": "qhrfnJHE1Rbu"
      },
      "execution_count": 21,
      "outputs": []
    },
    {
      "cell_type": "code",
      "source": [
        "data"
      ],
      "metadata": {
        "id": "QkE8D3JC2hI0",
        "outputId": "bff65eac-8f45-46b4-964f-71b1a6146838",
        "colab": {
          "base_uri": "https://localhost:8080/",
          "height": 641
        }
      },
      "execution_count": 22,
      "outputs": [
        {
          "output_type": "execute_result",
          "data": {
            "text/plain": [
              "         country                                        description  \\\n",
              "0          Italy  Aromas include tropical fruit, broom, brimston...   \n",
              "1       Portugal  This is ripe and fruity, a wine that is smooth...   \n",
              "2             US  Tart and snappy, the flavors of lime flesh and...   \n",
              "3             US  Pineapple rind, lemon pith and orange blossom ...   \n",
              "4             US  Much like the regular bottling from 2012, this...   \n",
              "...          ...                                                ...   \n",
              "410867   Germany  Notes of honeysuckle and cantaloupe sweeten th...   \n",
              "410868        US  Citation is given as much as a decade of bottl...   \n",
              "410869    France  Well-drained gravel soil gives this wine its c...   \n",
              "410870    France  A dry style of Pinot Gris, this is crisp with ...   \n",
              "410871    France  Big, rich and off-dry, this is powered by inte...   \n",
              "\n",
              "                                   designation  points  price  \\\n",
              "0                                 Vulkà Bianco      87    NaN   \n",
              "1                                     Avidagos      87   15.0   \n",
              "2                                          NaN      87   14.0   \n",
              "3                         Reserve Late Harvest      87   13.0   \n",
              "4           Vintner's Reserve Wild Child Block      87   65.0   \n",
              "...                                        ...     ...    ...   \n",
              "410867  Brauneberger Juffer-Sonnenuhr Spätlese      90   28.0   \n",
              "410868                                    None      90   75.0   \n",
              "410869                                   Kritt      90   30.0   \n",
              "410870                                    None      90   32.0   \n",
              "410871           Lieu-dit Harth Cuvée Caroline      90   21.0   \n",
              "\n",
              "                 province             region_1           region_2  \\\n",
              "0       Sicily & Sardinia                 Etna                NaN   \n",
              "1                   Douro                  NaN                NaN   \n",
              "2                  Oregon    Willamette Valley  Willamette Valley   \n",
              "3                Michigan  Lake Michigan Shore                NaN   \n",
              "4                  Oregon    Willamette Valley  Willamette Valley   \n",
              "...                   ...                  ...                ...   \n",
              "410867              Mosel                 None               None   \n",
              "410868             Oregon               Oregon       Oregon Other   \n",
              "410869             Alsace               Alsace               None   \n",
              "410870             Alsace               Alsace               None   \n",
              "410871             Alsace               Alsace               None   \n",
              "\n",
              "               taster_name taster_twitter_handle  \\\n",
              "0            Kerin O’Keefe          @kerinokeefe   \n",
              "1               Roger Voss            @vossroger   \n",
              "2             Paul Gregutt           @paulgwine    \n",
              "3       Alexander Peartree                   NaN   \n",
              "4             Paul Gregutt           @paulgwine    \n",
              "...                    ...                   ...   \n",
              "410867  Anna Lee C. Iijima                  None   \n",
              "410868        Paul Gregutt           @paulgwine    \n",
              "410869          Roger Voss            @vossroger   \n",
              "410870          Roger Voss            @vossroger   \n",
              "410871          Roger Voss            @vossroger   \n",
              "\n",
              "                                                    title         variety  \\\n",
              "0                       Nicosia 2013 Vulkà Bianco  (Etna)     White Blend   \n",
              "1           Quinta dos Avidagos 2011 Avidagos Red (Douro)  Portuguese Red   \n",
              "2           Rainstorm 2013 Pinot Gris (Willamette Valley)      Pinot Gris   \n",
              "3       St. Julian 2013 Reserve Late Harvest Riesling ...        Riesling   \n",
              "4       Sweet Cheeks 2012 Vintner's Reserve Wild Child...      Pinot Noir   \n",
              "...                                                   ...             ...   \n",
              "410867  Dr. H. Thanisch (Erben Müller-Burggraef) 2013 ...        Riesling   \n",
              "410868                  Citation 2004 Pinot Noir (Oregon)      Pinot Noir   \n",
              "410869  Domaine Gresser 2013 Kritt Gewurztraminer (Als...  Gewürztraminer   \n",
              "410870      Domaine Marcel Deiss 2012 Pinot Gris (Alsace)      Pinot Gris   \n",
              "410871  Domaine Schoffit 2012 Lieu-dit Harth Cuvée Car...  Gewürztraminer   \n",
              "\n",
              "                                          winery  \n",
              "0                                        Nicosia  \n",
              "1                            Quinta dos Avidagos  \n",
              "2                                      Rainstorm  \n",
              "3                                     St. Julian  \n",
              "4                                   Sweet Cheeks  \n",
              "...                                          ...  \n",
              "410867  Dr. H. Thanisch (Erben Müller-Burggraef)  \n",
              "410868                                  Citation  \n",
              "410869                           Domaine Gresser  \n",
              "410870                      Domaine Marcel Deiss  \n",
              "410871                          Domaine Schoffit  \n",
              "\n",
              "[410872 rows x 13 columns]"
            ],
            "text/html": [
              "\n",
              "  <div id=\"df-7e0d5cb3-7454-4af5-9bff-694f0226e160\">\n",
              "    <div class=\"colab-df-container\">\n",
              "      <div>\n",
              "<style scoped>\n",
              "    .dataframe tbody tr th:only-of-type {\n",
              "        vertical-align: middle;\n",
              "    }\n",
              "\n",
              "    .dataframe tbody tr th {\n",
              "        vertical-align: top;\n",
              "    }\n",
              "\n",
              "    .dataframe thead th {\n",
              "        text-align: right;\n",
              "    }\n",
              "</style>\n",
              "<table border=\"1\" class=\"dataframe\">\n",
              "  <thead>\n",
              "    <tr style=\"text-align: right;\">\n",
              "      <th></th>\n",
              "      <th>country</th>\n",
              "      <th>description</th>\n",
              "      <th>designation</th>\n",
              "      <th>points</th>\n",
              "      <th>price</th>\n",
              "      <th>province</th>\n",
              "      <th>region_1</th>\n",
              "      <th>region_2</th>\n",
              "      <th>taster_name</th>\n",
              "      <th>taster_twitter_handle</th>\n",
              "      <th>title</th>\n",
              "      <th>variety</th>\n",
              "      <th>winery</th>\n",
              "    </tr>\n",
              "  </thead>\n",
              "  <tbody>\n",
              "    <tr>\n",
              "      <th>0</th>\n",
              "      <td>Italy</td>\n",
              "      <td>Aromas include tropical fruit, broom, brimston...</td>\n",
              "      <td>Vulkà Bianco</td>\n",
              "      <td>87</td>\n",
              "      <td>NaN</td>\n",
              "      <td>Sicily &amp; Sardinia</td>\n",
              "      <td>Etna</td>\n",
              "      <td>NaN</td>\n",
              "      <td>Kerin O’Keefe</td>\n",
              "      <td>@kerinokeefe</td>\n",
              "      <td>Nicosia 2013 Vulkà Bianco  (Etna)</td>\n",
              "      <td>White Blend</td>\n",
              "      <td>Nicosia</td>\n",
              "    </tr>\n",
              "    <tr>\n",
              "      <th>1</th>\n",
              "      <td>Portugal</td>\n",
              "      <td>This is ripe and fruity, a wine that is smooth...</td>\n",
              "      <td>Avidagos</td>\n",
              "      <td>87</td>\n",
              "      <td>15.0</td>\n",
              "      <td>Douro</td>\n",
              "      <td>NaN</td>\n",
              "      <td>NaN</td>\n",
              "      <td>Roger Voss</td>\n",
              "      <td>@vossroger</td>\n",
              "      <td>Quinta dos Avidagos 2011 Avidagos Red (Douro)</td>\n",
              "      <td>Portuguese Red</td>\n",
              "      <td>Quinta dos Avidagos</td>\n",
              "    </tr>\n",
              "    <tr>\n",
              "      <th>2</th>\n",
              "      <td>US</td>\n",
              "      <td>Tart and snappy, the flavors of lime flesh and...</td>\n",
              "      <td>NaN</td>\n",
              "      <td>87</td>\n",
              "      <td>14.0</td>\n",
              "      <td>Oregon</td>\n",
              "      <td>Willamette Valley</td>\n",
              "      <td>Willamette Valley</td>\n",
              "      <td>Paul Gregutt</td>\n",
              "      <td>@paulgwine</td>\n",
              "      <td>Rainstorm 2013 Pinot Gris (Willamette Valley)</td>\n",
              "      <td>Pinot Gris</td>\n",
              "      <td>Rainstorm</td>\n",
              "    </tr>\n",
              "    <tr>\n",
              "      <th>3</th>\n",
              "      <td>US</td>\n",
              "      <td>Pineapple rind, lemon pith and orange blossom ...</td>\n",
              "      <td>Reserve Late Harvest</td>\n",
              "      <td>87</td>\n",
              "      <td>13.0</td>\n",
              "      <td>Michigan</td>\n",
              "      <td>Lake Michigan Shore</td>\n",
              "      <td>NaN</td>\n",
              "      <td>Alexander Peartree</td>\n",
              "      <td>NaN</td>\n",
              "      <td>St. Julian 2013 Reserve Late Harvest Riesling ...</td>\n",
              "      <td>Riesling</td>\n",
              "      <td>St. Julian</td>\n",
              "    </tr>\n",
              "    <tr>\n",
              "      <th>4</th>\n",
              "      <td>US</td>\n",
              "      <td>Much like the regular bottling from 2012, this...</td>\n",
              "      <td>Vintner's Reserve Wild Child Block</td>\n",
              "      <td>87</td>\n",
              "      <td>65.0</td>\n",
              "      <td>Oregon</td>\n",
              "      <td>Willamette Valley</td>\n",
              "      <td>Willamette Valley</td>\n",
              "      <td>Paul Gregutt</td>\n",
              "      <td>@paulgwine</td>\n",
              "      <td>Sweet Cheeks 2012 Vintner's Reserve Wild Child...</td>\n",
              "      <td>Pinot Noir</td>\n",
              "      <td>Sweet Cheeks</td>\n",
              "    </tr>\n",
              "    <tr>\n",
              "      <th>...</th>\n",
              "      <td>...</td>\n",
              "      <td>...</td>\n",
              "      <td>...</td>\n",
              "      <td>...</td>\n",
              "      <td>...</td>\n",
              "      <td>...</td>\n",
              "      <td>...</td>\n",
              "      <td>...</td>\n",
              "      <td>...</td>\n",
              "      <td>...</td>\n",
              "      <td>...</td>\n",
              "      <td>...</td>\n",
              "      <td>...</td>\n",
              "    </tr>\n",
              "    <tr>\n",
              "      <th>410867</th>\n",
              "      <td>Germany</td>\n",
              "      <td>Notes of honeysuckle and cantaloupe sweeten th...</td>\n",
              "      <td>Brauneberger Juffer-Sonnenuhr Spätlese</td>\n",
              "      <td>90</td>\n",
              "      <td>28.0</td>\n",
              "      <td>Mosel</td>\n",
              "      <td>None</td>\n",
              "      <td>None</td>\n",
              "      <td>Anna Lee C. Iijima</td>\n",
              "      <td>None</td>\n",
              "      <td>Dr. H. Thanisch (Erben Müller-Burggraef) 2013 ...</td>\n",
              "      <td>Riesling</td>\n",
              "      <td>Dr. H. Thanisch (Erben Müller-Burggraef)</td>\n",
              "    </tr>\n",
              "    <tr>\n",
              "      <th>410868</th>\n",
              "      <td>US</td>\n",
              "      <td>Citation is given as much as a decade of bottl...</td>\n",
              "      <td>None</td>\n",
              "      <td>90</td>\n",
              "      <td>75.0</td>\n",
              "      <td>Oregon</td>\n",
              "      <td>Oregon</td>\n",
              "      <td>Oregon Other</td>\n",
              "      <td>Paul Gregutt</td>\n",
              "      <td>@paulgwine</td>\n",
              "      <td>Citation 2004 Pinot Noir (Oregon)</td>\n",
              "      <td>Pinot Noir</td>\n",
              "      <td>Citation</td>\n",
              "    </tr>\n",
              "    <tr>\n",
              "      <th>410869</th>\n",
              "      <td>France</td>\n",
              "      <td>Well-drained gravel soil gives this wine its c...</td>\n",
              "      <td>Kritt</td>\n",
              "      <td>90</td>\n",
              "      <td>30.0</td>\n",
              "      <td>Alsace</td>\n",
              "      <td>Alsace</td>\n",
              "      <td>None</td>\n",
              "      <td>Roger Voss</td>\n",
              "      <td>@vossroger</td>\n",
              "      <td>Domaine Gresser 2013 Kritt Gewurztraminer (Als...</td>\n",
              "      <td>Gewürztraminer</td>\n",
              "      <td>Domaine Gresser</td>\n",
              "    </tr>\n",
              "    <tr>\n",
              "      <th>410870</th>\n",
              "      <td>France</td>\n",
              "      <td>A dry style of Pinot Gris, this is crisp with ...</td>\n",
              "      <td>None</td>\n",
              "      <td>90</td>\n",
              "      <td>32.0</td>\n",
              "      <td>Alsace</td>\n",
              "      <td>Alsace</td>\n",
              "      <td>None</td>\n",
              "      <td>Roger Voss</td>\n",
              "      <td>@vossroger</td>\n",
              "      <td>Domaine Marcel Deiss 2012 Pinot Gris (Alsace)</td>\n",
              "      <td>Pinot Gris</td>\n",
              "      <td>Domaine Marcel Deiss</td>\n",
              "    </tr>\n",
              "    <tr>\n",
              "      <th>410871</th>\n",
              "      <td>France</td>\n",
              "      <td>Big, rich and off-dry, this is powered by inte...</td>\n",
              "      <td>Lieu-dit Harth Cuvée Caroline</td>\n",
              "      <td>90</td>\n",
              "      <td>21.0</td>\n",
              "      <td>Alsace</td>\n",
              "      <td>Alsace</td>\n",
              "      <td>None</td>\n",
              "      <td>Roger Voss</td>\n",
              "      <td>@vossroger</td>\n",
              "      <td>Domaine Schoffit 2012 Lieu-dit Harth Cuvée Car...</td>\n",
              "      <td>Gewürztraminer</td>\n",
              "      <td>Domaine Schoffit</td>\n",
              "    </tr>\n",
              "  </tbody>\n",
              "</table>\n",
              "<p>410872 rows × 13 columns</p>\n",
              "</div>\n",
              "      <button class=\"colab-df-convert\" onclick=\"convertToInteractive('df-7e0d5cb3-7454-4af5-9bff-694f0226e160')\"\n",
              "              title=\"Convert this dataframe to an interactive table.\"\n",
              "              style=\"display:none;\">\n",
              "        \n",
              "  <svg xmlns=\"http://www.w3.org/2000/svg\" height=\"24px\"viewBox=\"0 0 24 24\"\n",
              "       width=\"24px\">\n",
              "    <path d=\"M0 0h24v24H0V0z\" fill=\"none\"/>\n",
              "    <path d=\"M18.56 5.44l.94 2.06.94-2.06 2.06-.94-2.06-.94-.94-2.06-.94 2.06-2.06.94zm-11 1L8.5 8.5l.94-2.06 2.06-.94-2.06-.94L8.5 2.5l-.94 2.06-2.06.94zm10 10l.94 2.06.94-2.06 2.06-.94-2.06-.94-.94-2.06-.94 2.06-2.06.94z\"/><path d=\"M17.41 7.96l-1.37-1.37c-.4-.4-.92-.59-1.43-.59-.52 0-1.04.2-1.43.59L10.3 9.45l-7.72 7.72c-.78.78-.78 2.05 0 2.83L4 21.41c.39.39.9.59 1.41.59.51 0 1.02-.2 1.41-.59l7.78-7.78 2.81-2.81c.8-.78.8-2.07 0-2.86zM5.41 20L4 18.59l7.72-7.72 1.47 1.35L5.41 20z\"/>\n",
              "  </svg>\n",
              "      </button>\n",
              "      \n",
              "  <style>\n",
              "    .colab-df-container {\n",
              "      display:flex;\n",
              "      flex-wrap:wrap;\n",
              "      gap: 12px;\n",
              "    }\n",
              "\n",
              "    .colab-df-convert {\n",
              "      background-color: #E8F0FE;\n",
              "      border: none;\n",
              "      border-radius: 50%;\n",
              "      cursor: pointer;\n",
              "      display: none;\n",
              "      fill: #1967D2;\n",
              "      height: 32px;\n",
              "      padding: 0 0 0 0;\n",
              "      width: 32px;\n",
              "    }\n",
              "\n",
              "    .colab-df-convert:hover {\n",
              "      background-color: #E2EBFA;\n",
              "      box-shadow: 0px 1px 2px rgba(60, 64, 67, 0.3), 0px 1px 3px 1px rgba(60, 64, 67, 0.15);\n",
              "      fill: #174EA6;\n",
              "    }\n",
              "\n",
              "    [theme=dark] .colab-df-convert {\n",
              "      background-color: #3B4455;\n",
              "      fill: #D2E3FC;\n",
              "    }\n",
              "\n",
              "    [theme=dark] .colab-df-convert:hover {\n",
              "      background-color: #434B5C;\n",
              "      box-shadow: 0px 1px 3px 1px rgba(0, 0, 0, 0.15);\n",
              "      filter: drop-shadow(0px 1px 2px rgba(0, 0, 0, 0.3));\n",
              "      fill: #FFFFFF;\n",
              "    }\n",
              "  </style>\n",
              "\n",
              "      <script>\n",
              "        const buttonEl =\n",
              "          document.querySelector('#df-7e0d5cb3-7454-4af5-9bff-694f0226e160 button.colab-df-convert');\n",
              "        buttonEl.style.display =\n",
              "          google.colab.kernel.accessAllowed ? 'block' : 'none';\n",
              "\n",
              "        async function convertToInteractive(key) {\n",
              "          const element = document.querySelector('#df-7e0d5cb3-7454-4af5-9bff-694f0226e160');\n",
              "          const dataTable =\n",
              "            await google.colab.kernel.invokeFunction('convertToInteractive',\n",
              "                                                     [key], {});\n",
              "          if (!dataTable) return;\n",
              "\n",
              "          const docLinkHtml = 'Like what you see? Visit the ' +\n",
              "            '<a target=\"_blank\" href=https://colab.research.google.com/notebooks/data_table.ipynb>data table notebook</a>'\n",
              "            + ' to learn more about interactive tables.';\n",
              "          element.innerHTML = '';\n",
              "          dataTable['output_type'] = 'display_data';\n",
              "          await google.colab.output.renderOutput(dataTable, element);\n",
              "          const docLink = document.createElement('div');\n",
              "          docLink.innerHTML = docLinkHtml;\n",
              "          element.appendChild(docLink);\n",
              "        }\n",
              "      </script>\n",
              "    </div>\n",
              "  </div>\n",
              "  "
            ]
          },
          "metadata": {},
          "execution_count": 22
        }
      ]
    },
    {
      "cell_type": "code",
      "source": [
        "data.info()"
      ],
      "metadata": {
        "id": "kcJicp-Q2ROi",
        "outputId": "64d63a70-4f5b-4898-85ec-171917b337e6",
        "colab": {
          "base_uri": "https://localhost:8080/"
        }
      },
      "execution_count": 23,
      "outputs": [
        {
          "output_type": "stream",
          "name": "stdout",
          "text": [
            "<class 'pandas.core.frame.DataFrame'>\n",
            "RangeIndex: 410872 entries, 0 to 410871\n",
            "Data columns (total 13 columns):\n",
            " #   Column                 Non-Null Count   Dtype  \n",
            "---  ------                 --------------   -----  \n",
            " 0   country                410741 non-null  object \n",
            " 1   description            410872 non-null  object \n",
            " 2   designation            290207 non-null  object \n",
            " 3   points                 410872 non-null  int64  \n",
            " 4   price                  379185 non-null  float64\n",
            " 5   province               410741 non-null  object \n",
            " 6   region_1               343318 non-null  object \n",
            " 7   region_2               161975 non-null  object \n",
            " 8   taster_name            207454 non-null  object \n",
            " 9   taster_twitter_handle  197516 non-null  object \n",
            " 10  title                  259942 non-null  object \n",
            " 11  variety                410870 non-null  object \n",
            " 12  winery                 410872 non-null  object \n",
            "dtypes: float64(1), int64(1), object(11)\n",
            "memory usage: 40.8+ MB\n"
          ]
        }
      ]
    },
    {
      "cell_type": "markdown",
      "source": [
        "## Escogiendo la variable target"
      ],
      "metadata": {
        "id": "uNg31lERAuEe"
      }
    },
    {
      "cell_type": "code",
      "source": [
        "data.shape"
      ],
      "metadata": {
        "id": "44uWcdF76uUv",
        "outputId": "549ad59a-d86e-469f-b4d7-7c6bd82fb62e",
        "colab": {
          "base_uri": "https://localhost:8080/"
        }
      },
      "execution_count": 27,
      "outputs": [
        {
          "output_type": "execute_result",
          "data": {
            "text/plain": [
              "(410872, 10)"
            ]
          },
          "metadata": {},
          "execution_count": 27
        }
      ]
    },
    {
      "cell_type": "code",
      "source": [
        "len(data[\"title\"].unique())"
      ],
      "metadata": {
        "id": "eb5aev_f-IkK",
        "outputId": "d2dc09e7-b1d1-43c9-83f6-7ce3c77c10e3",
        "colab": {
          "base_uri": "https://localhost:8080/"
        }
      },
      "execution_count": 28,
      "outputs": [
        {
          "output_type": "execute_result",
          "data": {
            "text/plain": [
              "118842"
            ]
          },
          "metadata": {},
          "execution_count": 28
        }
      ]
    },
    {
      "cell_type": "code",
      "source": [
        "data.shape[0]/len(data[\"title\"].unique())"
      ],
      "metadata": {
        "id": "5g_ush_8Ab57",
        "outputId": "e7e88cca-adcf-4251-8d92-05d4967950f8",
        "colab": {
          "base_uri": "https://localhost:8080/"
        }
      },
      "execution_count": 32,
      "outputs": [
        {
          "output_type": "execute_result",
          "data": {
            "text/plain": [
              "3.4572962420693023"
            ]
          },
          "metadata": {},
          "execution_count": 32
        }
      ]
    },
    {
      "cell_type": "markdown",
      "source": [
        "#### Hay demasiada varianza en el tipo de vino como para predecirlo con respecto a su descripción, escogamos otro target. Si escogieramos el nombre dle vino para usarlo como nuestra variable target nuestro modelo solo tendría aproximadamente 4 registros para aprender a diferenciar entre todos los tipos de vinos."
      ],
      "metadata": {
        "id": "pywjscy6-9rr"
      }
    },
    {
      "cell_type": "code",
      "source": [
        "len(data[\"variety\"].unique())"
      ],
      "metadata": {
        "id": "PYVop51fAKYn",
        "outputId": "5d0cac6c-6982-4543-fc41-5ef4effe49f2",
        "colab": {
          "base_uri": "https://localhost:8080/"
        }
      },
      "execution_count": 29,
      "outputs": [
        {
          "output_type": "execute_result",
          "data": {
            "text/plain": [
              "758"
            ]
          },
          "metadata": {},
          "execution_count": 29
        }
      ]
    },
    {
      "cell_type": "code",
      "source": [
        "data.shape[0]/len(data[\"variety\"].unique())"
      ],
      "metadata": {
        "id": "_6vuc_teApGb",
        "outputId": "0232ce3a-2105-40ea-f3d5-70172812839b",
        "colab": {
          "base_uri": "https://localhost:8080/"
        }
      },
      "execution_count": 33,
      "outputs": [
        {
          "output_type": "execute_result",
          "data": {
            "text/plain": [
              "542.0474934036939"
            ]
          },
          "metadata": {},
          "execution_count": 33
        }
      ]
    },
    {
      "cell_type": "markdown",
      "source": [
        "## Missing Values"
      ],
      "metadata": {
        "id": "CDNneczz2zgY"
      }
    },
    {
      "cell_type": "code",
      "source": [
        "data.isnull().sum()"
      ],
      "metadata": {
        "id": "jMOnZi5q4f2M",
        "outputId": "db598193-d796-412d-bb96-9ebc24612bc3",
        "colab": {
          "base_uri": "https://localhost:8080/"
        }
      },
      "execution_count": 24,
      "outputs": [
        {
          "output_type": "execute_result",
          "data": {
            "text/plain": [
              "country                     131\n",
              "description                   0\n",
              "designation              120665\n",
              "points                        0\n",
              "price                     31687\n",
              "province                    131\n",
              "region_1                  67554\n",
              "region_2                 248897\n",
              "taster_name              203418\n",
              "taster_twitter_handle    213356\n",
              "title                    150930\n",
              "variety                       2\n",
              "winery                        0\n",
              "dtype: int64"
            ]
          },
          "metadata": {},
          "execution_count": 24
        }
      ]
    },
    {
      "cell_type": "markdown",
      "source": [
        "#### Las columnas con más valores nulos son region_2 y taster_twitter_handle que son columnas que no nos dan demasiada información relevante así que las vamos a eliminar. También elimnaremos la columna de region_1"
      ],
      "metadata": {
        "id": "nkT4CzYO4sW4"
      }
    },
    {
      "cell_type": "code",
      "source": [
        "data.drop(columns = [\"region_2\",\"taster_twitter_handle\", \"region_1\"], inplace = True)"
      ],
      "metadata": {
        "id": "44pXaN6d5UkZ"
      },
      "execution_count": 25,
      "outputs": []
    },
    {
      "cell_type": "code",
      "source": [
        "data.isnull().sum()"
      ],
      "metadata": {
        "id": "fUIc9q6o6Ys3",
        "outputId": "671b90ff-ec92-401c-ba56-060fd579d35c",
        "colab": {
          "base_uri": "https://localhost:8080/"
        }
      },
      "execution_count": 26,
      "outputs": [
        {
          "output_type": "execute_result",
          "data": {
            "text/plain": [
              "country           131\n",
              "description         0\n",
              "designation    120665\n",
              "points              0\n",
              "price           31687\n",
              "province          131\n",
              "taster_name    203418\n",
              "title          150930\n",
              "variety             2\n",
              "winery              0\n",
              "dtype: int64"
            ]
          },
          "metadata": {},
          "execution_count": 26
        }
      ]
    },
    {
      "cell_type": "code",
      "source": [
        "data.dropna(inplace = True)"
      ],
      "metadata": {
        "id": "lD7Px_tH2v5Y"
      },
      "execution_count": 49,
      "outputs": []
    },
    {
      "cell_type": "code",
      "source": [
        "data.shape"
      ],
      "metadata": {
        "id": "UlLJeAty7A6Z",
        "outputId": "f48434dd-30d0-4a9e-e76a-82b16e797fa2",
        "colab": {
          "base_uri": "https://localhost:8080/"
        }
      },
      "execution_count": 51,
      "outputs": [
        {
          "output_type": "execute_result",
          "data": {
            "text/plain": [
              "(108340, 11)"
            ]
          },
          "metadata": {},
          "execution_count": 51
        }
      ]
    },
    {
      "cell_type": "code",
      "source": [
        "data.info()"
      ],
      "metadata": {
        "id": "5LNQmtQe7Gl1",
        "outputId": "0bb8d6f1-1671-4557-c504-2173cccfb5ed",
        "colab": {
          "base_uri": "https://localhost:8080/"
        }
      },
      "execution_count": 52,
      "outputs": [
        {
          "output_type": "stream",
          "name": "stdout",
          "text": [
            "<class 'pandas.core.frame.DataFrame'>\n",
            "Int64Index: 108340 entries, 3 to 410871\n",
            "Data columns (total 11 columns):\n",
            " #   Column       Non-Null Count   Dtype  \n",
            "---  ------       --------------   -----  \n",
            " 0   country      108340 non-null  object \n",
            " 1   description  108340 non-null  object \n",
            " 2   designation  108340 non-null  object \n",
            " 3   points       108340 non-null  int64  \n",
            " 4   price        108340 non-null  float64\n",
            " 5   province     108340 non-null  object \n",
            " 6   region_1     108340 non-null  object \n",
            " 7   taster_name  108340 non-null  object \n",
            " 8   title        108340 non-null  object \n",
            " 9   variety      108340 non-null  object \n",
            " 10  winery       108340 non-null  object \n",
            "dtypes: float64(1), int64(1), object(9)\n",
            "memory usage: 9.9+ MB\n"
          ]
        }
      ]
    },
    {
      "cell_type": "markdown",
      "source": [
        "#### Ya no tenemos valores nulos. Vamos a comenzar con el análisis de los datos."
      ],
      "metadata": {
        "id": "Oeht0g7H7IfW"
      }
    },
    {
      "cell_type": "markdown",
      "source": [
        "## Análisis"
      ],
      "metadata": {
        "id": "DpjpTXtW7N2N"
      }
    },
    {
      "cell_type": "markdown",
      "source": [
        "### Varianza"
      ],
      "metadata": {
        "id": "txnIZ5X88cSx"
      }
    },
    {
      "cell_type": "code",
      "source": [
        "data[\"country\"].unique()"
      ],
      "metadata": {
        "id": "VEYQXs747A0R",
        "outputId": "ab2a8fac-38f3-4718-a84f-32c6328a861a",
        "colab": {
          "base_uri": "https://localhost:8080/"
        }
      },
      "execution_count": 54,
      "outputs": [
        {
          "output_type": "execute_result",
          "data": {
            "text/plain": [
              "array(['US', 'Spain', 'Italy', 'France', 'Argentina', 'Australia',\n",
              "       'Canada'], dtype=object)"
            ]
          },
          "metadata": {},
          "execution_count": 54
        }
      ]
    },
    {
      "cell_type": "markdown",
      "source": [
        "#### Tenemos estos países en donde se realizaron las catas de vinos"
      ],
      "metadata": {
        "id": "8kyaEQQN8Eyo"
      }
    },
    {
      "cell_type": "code",
      "source": [
        "len(data[\"designation\"].unique())"
      ],
      "metadata": {
        "id": "TO9jdcfq7bjl",
        "outputId": "40fbf38a-7695-421d-8c02-060139fd4602",
        "colab": {
          "base_uri": "https://localhost:8080/"
        }
      },
      "execution_count": 56,
      "outputs": [
        {
          "output_type": "execute_result",
          "data": {
            "text/plain": [
              "23943"
            ]
          },
          "metadata": {},
          "execution_count": 56
        }
      ]
    },
    {
      "cell_type": "code",
      "source": [
        "len(data[\"province\"].unique())"
      ],
      "metadata": {
        "id": "eQ_-By1o7hm0",
        "outputId": "aef031a8-e745-40bc-af8c-26cb3964ef82",
        "colab": {
          "base_uri": "https://localhost:8080/"
        }
      },
      "execution_count": 57,
      "outputs": [
        {
          "output_type": "execute_result",
          "data": {
            "text/plain": [
              "63"
            ]
          },
          "metadata": {},
          "execution_count": 57
        }
      ]
    },
    {
      "cell_type": "markdown",
      "source": [
        "#### Tenemos 63 provincias distintas"
      ],
      "metadata": {
        "id": "gY7dTDJG71-2"
      }
    },
    {
      "cell_type": "code",
      "source": [
        "len(data[\"region_1\"].unique())"
      ],
      "metadata": {
        "id": "5WwJTZWn7ojD",
        "outputId": "5fa45270-e078-4328-8da6-1953e274a692",
        "colab": {
          "base_uri": "https://localhost:8080/"
        }
      },
      "execution_count": 58,
      "outputs": [
        {
          "output_type": "execute_result",
          "data": {
            "text/plain": [
              "1004"
            ]
          },
          "metadata": {},
          "execution_count": 58
        }
      ]
    },
    {
      "cell_type": "markdown",
      "source": [
        "#### Tenemos 1004 regiones distintas donde se realizadon las catas de vinos"
      ],
      "metadata": {
        "id": "5jsaynlR7w5V"
      }
    },
    {
      "cell_type": "code",
      "source": [
        "len(data[\"taster_name\"].unique())"
      ],
      "metadata": {
        "id": "woWtL3CG7rjR",
        "outputId": "e1827378-13fd-4112-89f2-f4fe5763439c",
        "colab": {
          "base_uri": "https://localhost:8080/"
        }
      },
      "execution_count": 59,
      "outputs": [
        {
          "output_type": "execute_result",
          "data": {
            "text/plain": [
              "17"
            ]
          },
          "metadata": {},
          "execution_count": 59
        }
      ]
    },
    {
      "cell_type": "markdown",
      "source": [
        "#### Tenemos 17 probadores de vinos"
      ],
      "metadata": {
        "id": "mKAsFVeF7t1e"
      }
    },
    {
      "cell_type": "code",
      "source": [
        "len(data[\"title\"].unique())"
      ],
      "metadata": {
        "id": "MSavQmwM8r02",
        "outputId": "7dbbcd53-7a60-4204-fc03-1c7aeedc282f",
        "colab": {
          "base_uri": "https://localhost:8080/"
        }
      },
      "execution_count": 60,
      "outputs": [
        {
          "output_type": "execute_result",
          "data": {
            "text/plain": [
              "48994"
            ]
          },
          "metadata": {},
          "execution_count": 60
        }
      ]
    },
    {
      "cell_type": "markdown",
      "source": [
        "#### Tenemos 48994 vinos distintos"
      ],
      "metadata": {
        "id": "g-Dz5h2j8yzO"
      }
    },
    {
      "cell_type": "code",
      "source": [
        "len(data[\"variety\"].unique())"
      ],
      "metadata": {
        "id": "wK4fPKfi8tj-",
        "outputId": "ebaabc76-0500-46dc-e53a-cf8bd678fb71",
        "colab": {
          "base_uri": "https://localhost:8080/"
        }
      },
      "execution_count": 61,
      "outputs": [
        {
          "output_type": "execute_result",
          "data": {
            "text/plain": [
              "434"
            ]
          },
          "metadata": {},
          "execution_count": 61
        }
      ]
    },
    {
      "cell_type": "code",
      "source": [
        "len(data[\"winery\"].unique())"
      ],
      "metadata": {
        "id": "A3yzUoMb8wep",
        "outputId": "bcee2a51-c297-44bb-db26-52ac58dd056d",
        "colab": {
          "base_uri": "https://localhost:8080/"
        }
      },
      "execution_count": 62,
      "outputs": [
        {
          "output_type": "execute_result",
          "data": {
            "text/plain": [
              "8583"
            ]
          },
          "metadata": {},
          "execution_count": 62
        }
      ]
    },
    {
      "cell_type": "code",
      "source": [],
      "metadata": {
        "id": "hUH4tl3U8wbq"
      },
      "execution_count": null,
      "outputs": []
    }
  ],
  "metadata": {
    "language_info": {
      "name": "python"
    },
    "orig_nbformat": 4,
    "colab": {
      "provenance": [],
      "machine_shape": "hm",
      "gpuType": "V100",
      "include_colab_link": true
    },
    "kernelspec": {
      "name": "python3",
      "display_name": "Python 3"
    },
    "gpuClass": "standard",
    "accelerator": "GPU"
  },
  "nbformat": 4,
  "nbformat_minor": 0
}